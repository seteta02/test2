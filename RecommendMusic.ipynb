{
  "nbformat": 4,
  "nbformat_minor": 0,
  "metadata": {
    "colab": {
      "provenance": []
    },
    "kernelspec": {
      "name": "python3",
      "display_name": "Python 3"
    },
    "language_info": {
      "name": "python"
    }
  },
  "cells": [
    {
      "cell_type": "markdown",
      "source": [
        "# 음악 플리에서 추천노래 갖고 오기"
      ],
      "metadata": {
        "id": "_XhGSSS3HwPI"
      }
    },
    {
      "cell_type": "markdown",
      "source": [
        "1. 설치"
      ],
      "metadata": {
        "id": "PUTVeXKghfbg"
      }
    },
    {
      "cell_type": "code",
      "source": [
        "!pip install spotipy"
      ],
      "metadata": {
        "colab": {
          "base_uri": "https://localhost:8080/"
        },
        "id": "efxDBaUdMEz-",
        "outputId": "20107e17-588d-4b9d-d24c-671074464dc2"
      },
      "execution_count": null,
      "outputs": [
        {
          "output_type": "stream",
          "name": "stdout",
          "text": [
            "Collecting spotipy\n",
            "  Downloading spotipy-2.25.1-py3-none-any.whl.metadata (5.1 kB)\n",
            "Collecting redis>=3.5.3 (from spotipy)\n",
            "  Downloading redis-5.2.1-py3-none-any.whl.metadata (9.1 kB)\n",
            "Requirement already satisfied: requests>=2.25.0 in /usr/local/lib/python3.11/dist-packages (from spotipy) (2.32.3)\n",
            "Requirement already satisfied: urllib3>=1.26.0 in /usr/local/lib/python3.11/dist-packages (from spotipy) (2.3.0)\n",
            "Requirement already satisfied: charset-normalizer<4,>=2 in /usr/local/lib/python3.11/dist-packages (from requests>=2.25.0->spotipy) (3.4.1)\n",
            "Requirement already satisfied: idna<4,>=2.5 in /usr/local/lib/python3.11/dist-packages (from requests>=2.25.0->spotipy) (3.10)\n",
            "Requirement already satisfied: certifi>=2017.4.17 in /usr/local/lib/python3.11/dist-packages (from requests>=2.25.0->spotipy) (2025.1.31)\n",
            "Downloading spotipy-2.25.1-py3-none-any.whl (31 kB)\n",
            "Downloading redis-5.2.1-py3-none-any.whl (261 kB)\n",
            "\u001b[2K   \u001b[90m━━━━━━━━━━━━━━━━━━━━━━━━━━━━━━━━━━━━━━━━\u001b[0m \u001b[32m261.5/261.5 kB\u001b[0m \u001b[31m4.8 MB/s\u001b[0m eta \u001b[36m0:00:00\u001b[0m\n",
            "\u001b[?25hInstalling collected packages: redis, spotipy\n",
            "Successfully installed redis-5.2.1 spotipy-2.25.1\n"
          ]
        }
      ]
    },
    {
      "cell_type": "markdown",
      "source": [
        "2. 토큰 발급"
      ],
      "metadata": {
        "id": "XL_wVC9dhhAH"
      }
    },
    {
      "cell_type": "code",
      "source": [
        "from spotipy.oauth2 import SpotifyOAuth\n",
        "from spotipy import Spotify\n",
        "\n",
        "sp_oauth = SpotifyOAuth(\n",
        "    client_id=\"본인 클라이언트ID 입력\",\n",
        "    client_secret=\"본인 클라이언트 비밀번호 입력\",\n",
        "    redirect_uri=\"리디렉션 URI\",\n",
        "    scope=\"playlist-modify-public playlist-modify-private user-read-currently-playing user-read-playback-state\"\n",
        ")\n",
        "\n",
        "auth_url = sp_oauth.get_authorize_url()\n",
        "print(f\"링크 클릭 -> 리디렉션된 URL을 붙여 넣기(code:뒷부분 복붙):\\n{auth_url}\")\n",
        "\n",
        "response_url = input(\"리디렉션된 전체 URL : \")\n",
        "code = sp_oauth.parse_response_code(response_url)\n",
        "token_info = sp_oauth.get_access_token(code)\n",
        "\n",
        "sp = Spotify(auth=token_info['access_token'])\n"
      ],
      "metadata": {
        "colab": {
          "base_uri": "https://localhost:8080/"
        },
        "id": "vX_OplLAMn_2",
        "outputId": "47c97d94-fdee-4097-e9e9-da70b332f045"
      },
      "execution_count": null,
      "outputs": [
        {
          "name": "stdout",
          "output_type": "stream",
          "text": [
            "링크 클릭 -> 리디렉션된 URL을 붙여 넣기:\n",
            "https://accounts.spotify.com/authorize?client_id=fd67c1837aba4051bef7fde0899e96cc&response_type=code&redirect_uri=http%3A%2F%2F127.0.0.1%3A8888%2Fcallback&scope=playlist-modify-public+playlist-modify-private+user-read-currently-playing+user-read-playback-state\n",
            "리디렉션된 전체 URL : AQApFNRWI5aEsN_SN_3CXxMJnskF9yUqx3MTl95LuFr7vLBVWdw0_yNmy5dHtq8f_b792NnZR2RKhVnTxL9ll8QlUb2THTDg0PzCxVJ2wiZAOy-tPbMsrNCc8X5RM-e2zgVzCLCh-HsKFFDdawD4gjSWdlg8g14s3WjxEvlOwqzVDtG-RFlz4hxxWU5fStQDQ4a6Ljt0x1zrL62iX1cz0yKogPqfjvVe2cqQdOo1lEX4YB0D4NIDzzkzg41-Br0sVFmRWmiwJM2_S7n_PLFIStNKyNmzTVWw0Sg3avYqZrtk0h4dduA9iNKw\n"
          ]
        },
        {
          "output_type": "stream",
          "name": "stderr",
          "text": [
            "<ipython-input-2-7bfb1186908d>:16: DeprecationWarning: You're using 'as_dict = True'.get_access_token will return the token string directly in future versions. Please adjust your code accordingly, or use get_cached_token instead.\n",
            "  token_info = sp_oauth.get_access_token(code)\n"
          ]
        }
      ]
    },
    {
      "cell_type": "markdown",
      "source": [
        "3. main"
      ],
      "metadata": {
        "id": "k5mYhkjFhvpX"
      }
    },
    {
      "cell_type": "code",
      "source": [
        "import re\n",
        "\n",
        "def is_korean(text):\n",
        "    return bool(re.search('[\\u3131-\\u3163\\uac00-\\ud7a3]+', text))\n",
        "\n",
        "def is_korean_track(track):\n",
        "    return is_korean(track['name']) or is_korean(track['artists'][0]['name'])\n",
        "\n",
        "INDIE_KEYWORDS = [\n",
        "    # 🇰🇷 한국어 키워드\n",
        "    '인디', '밴드', '자작곡', '싱어송라이터', '홍대', '언플러그드',\n",
        "    '혼자', '어쿠스틱', '비주류', '마이너', '자유', '자유로운', '실험적',\n",
        "\n",
        "    # 🇬🇧🇺🇸 영어 키워드\n",
        "    'indie', 'band', 'diy', 'singer-songwriter', 'lofi', 'bedroom',\n",
        "    'alternative', 'alt', 'underground', 'unplugged', 'acoustic',\n",
        "    'experimental', 'non-mainstream', 'offbeat', 'authentic', 'raw'\n",
        "]\n",
        "\n",
        "def is_moody(track, playlists):\n",
        "    name = track['name'].lower()\n",
        "    artist = track['artists'][0]['name'].lower()\n",
        "    combined_text = name + \" \" + artist\n",
        "    for pl in playlists:\n",
        "        combined_text += \" \" + pl.get('name', '').lower()\n",
        "    return any(keyword in combined_text for keyword in INDIE_KEYWORDS)\n",
        "\n",
        "def get_current_or_input_track(sp):\n",
        "    current_track = sp.current_user_playing_track()\n",
        "    if current_track is None or current_track['item'] is None:\n",
        "        print(\"현재 재생 중인 곡이 없어요.\")\n",
        "        track_name = input(\"추천하고 싶은 곡 제목을 입력해주세요: \").strip()\n",
        "        results = sp.search(q=track_name, type='track', limit=5)\n",
        "        items = results['tracks']['items']\n",
        "\n",
        "        if not items:\n",
        "            print(\"해당 제목의 곡을 찾을 수 없어요.\")\n",
        "            exit()\n",
        "\n",
        "        print(\"\\n검색 결과:\")\n",
        "        for i, item in enumerate(items):\n",
        "            print(f\"{i+1}. {item['name']} - {item['artists'][0]['name']}\")\n",
        "\n",
        "        selected_index = input(\"\\n👤 정확한 곡을 선택하려면 번호를 입력해주세요 (예: 1): \").strip()\n",
        "        if not selected_index.isdigit() or not (1 <= int(selected_index) <= len(items)):\n",
        "            print(\"잘못된 입력이에요. 숫자를 정확히 입력해 주세요.\")\n",
        "            exit()\n",
        "\n",
        "        return items[int(selected_index) - 1]\n",
        "    return current_track['item']\n",
        "\n",
        "def search_playlists(sp, artist_name):\n",
        "    playlist_results = sp.search(q=artist_name, type='playlist', limit=20)\n",
        "    playlist_items = list(filter(None, playlist_results.get('playlists', {}).get('items', [])))\n",
        "\n",
        "    def sort_priority(pl):\n",
        "        title = pl.get('name', '').lower()\n",
        "        return (0 if '인디' in title else 1, title)\n",
        "\n",
        "    sorted_playlists = sorted(playlist_items, key=sort_priority)\n",
        "    selected = sorted_playlists[:5]\n",
        "\n",
        "    if selected:\n",
        "        print(\"\\n 선택된 플레이리스트:\")\n",
        "        for i, pl in enumerate(selected, 1):\n",
        "            print(f\"{i}. {pl['name']} (by {pl['owner']['display_name']})\")\n",
        "    else:\n",
        "        print(\"관련 플레이리스트를 찾을 수 없어요. 인디 음악을 추천해드릴게요\")\n",
        "\n",
        "    return selected\n",
        "\n",
        "\n",
        "def fetch_tracks_from_playlists(sp, playlists, exclude_id):\n",
        "    all_tracks = []\n",
        "    for pl in playlists:\n",
        "        pid = pl['id']\n",
        "        try:\n",
        "            items = sp.playlist_tracks(pid)['items']\n",
        "        except Exception as e:\n",
        "            print(f\" 플레이리스트 불러오기 실패: {e}\")\n",
        "            continue\n",
        "\n",
        "        for item in items:\n",
        "            track_info = item.get('track')\n",
        "            if not track_info or track_info['id'] == exclude_id:\n",
        "                continue\n",
        "            all_tracks.append(track_info)\n",
        "\n",
        "    unique_tracks = {t['id']: t for t in all_tracks}.values()\n",
        "    filtered_tracks = [t for t in unique_tracks if t.get('popularity', 0) >= 3]\n",
        "    return sorted(filtered_tracks, key=lambda x: x.get('popularity', 0))\n",
        "\n",
        "def find_moody_korean_track(tracks, playlists):\n",
        "    # 1순위: 인디 느낌 + 한국어\n",
        "    for track in tracks:\n",
        "        if is_korean_track(track) and is_moody(track, playlists):\n",
        "            return track\n",
        "\n",
        "    # 2순위: 인디 느낌 (한국어 아님)\n",
        "    for track in tracks:\n",
        "        if is_moody(track, playlists):\n",
        "            return track\n",
        "\n",
        "    # 3순위: 한국어 (인디 느낌 아님)\n",
        "    for track in tracks:\n",
        "        if is_korean_track(track):\n",
        "            return track\n",
        "\n",
        "     # 4순위: 아무거나 인기도 낮은 거라도\n",
        "    if tracks:\n",
        "        return tracks[0]  # popularity 기준으로 정렬되어 있으니까 첫 번째가 가장 인기 낮은 곡\n",
        "\n",
        "    # 아무것도 없으면\n",
        "    return None\n",
        "\n",
        "\n",
        "def find_or_create_playlist(sp, user_id, name, description):\n",
        "    playlists = sp.current_user_playlists()['items']\n",
        "    for pl in playlists:\n",
        "        if pl['name'] == name:\n",
        "            return pl['id']\n",
        "    new_pl = sp.user_playlist_create(user_id, name, False, description)\n",
        "    return new_pl['id']\n",
        "\n",
        "def save_to_playlist(sp, user_id, track):\n",
        "    answer = input(\"\\n 이 곡을 재생목록에 저장할까요? (Y/N): \").strip().lower()\n",
        "    if answer == 'y':\n",
        "        playlist_name = \"고막친구🧸🎵\"\n",
        "        playlist_description = \"고막친구가 추천한 인디 보석들 💎\"\n",
        "        playlist_id = find_or_create_playlist(sp, user_id, playlist_name, playlist_description)\n",
        "        track_uri = f\"spotify:track:{track['id']}\"\n",
        "        sp.playlist_add_items(playlist_id, [track_uri])\n",
        "        print(\"추천곡이 재생목록에 저장됐어요!\")\n",
        "    else:\n",
        "        print(\"저장하지 않았어요. 다음 추천곡도 기대해주세요!\")\n",
        "\n",
        "def main(sp):\n",
        "    track = get_current_or_input_track(sp)\n",
        "    track_name = track['name']\n",
        "    artist_name = track['artists'][0]['name']\n",
        "    track_id = track['id']\n",
        "\n",
        "    print(f\"\\n 기준 트랙: {track_name} / 아티스트: {artist_name} / ID: {track_id}\")\n",
        "\n",
        "    selected_playlists = search_playlists(sp, artist_name)\n",
        "    sorted_tracks = fetch_tracks_from_playlists(sp, selected_playlists, track_id)\n",
        "    track_to_recommend = find_moody_korean_track(sorted_tracks, selected_playlists)\n",
        "\n",
        "    print(\"\\n 인디음악을 찾고 있어요 ..\\n\") # (인기도 낮은 한국어 곡을)\n",
        "\n",
        "    if track_to_recommend:\n",
        "        name = track_to_recommend['name']\n",
        "        artist = track_to_recommend['artists'][0]['name']\n",
        "        popularity = track_to_recommend.get('popularity', 'N/A')\n",
        "        link = track_to_recommend['external_urls']['spotify']\n",
        "\n",
        "        print(\" 추천 곡 \")\n",
        "        print(f\"제목      : {name}\")\n",
        "        print(f\"아티스트 : {artist}\")\n",
        "        print(f\"인기도    : {popularity}\")\n",
        "        print(f\"Spotify에서 듣기 -> {link} \\n\")\n",
        "\n",
        "        user_id = sp.current_user()['id']\n",
        "        save_to_playlist(sp, user_id, track_to_recommend)\n",
        "    else:\n",
        "        print(\"추천할 곡이 없어요. 다음엔 더 좋은 곡을 찾아볼게요!\")\n"
      ],
      "metadata": {
        "id": "sBhivqiyTMcb"
      },
      "execution_count": 5,
      "outputs": []
    },
    {
      "cell_type": "code",
      "source": [
        "main(sp)"
      ],
      "metadata": {
        "colab": {
          "base_uri": "https://localhost:8080/"
        },
        "id": "1bJtr_aPcRDa",
        "outputId": "82faff51-2123-481e-cf31-7c0030523b08"
      },
      "execution_count": 6,
      "outputs": [
        {
          "output_type": "stream",
          "name": "stdout",
          "text": [
            "현재 재생 중인 곡이 없어요.\n",
            "추천하고 싶은 곡 제목을 입력해주세요: 신호등\n",
            "\n",
            "검색 결과:\n",
            "1. Traffic light - Lee Mujin\n",
            "2. Episode - Lee Mujin\n",
            "3. Fry’s Dream - AKMU\n",
            "4. MERRY-GO-ROUND (Feat. Zion.T, Wonstein) (Prod. Slom) - sokodomo\n",
            "5. Traffic light - 박치용\n",
            "\n",
            "👤 정확한 곡을 선택하려면 번호를 입력해주세요 (예: 1): 1\n",
            "\n",
            " 기준 트랙: Traffic light / 아티스트: Lee Mujin / ID: 03qu1u4hDyepQQi2lNxCka\n",
            "\n",
            " 선택된 플레이리스트:\n",
            "1.  2024 Lee Mujin National Tour Concert <별책부록> Setlist (by Leemujin Global)\n",
            "2. 2025 LEE MUJIN CONCERT [別冊附錄] in TAIPEI 250308 (by Y)\n",
            "3. Lee Mujin Playlist (by tsumtsum)\n",
            "4. LEE MUJIN PLAYLIST (by Shinggibanggi 💙)\n",
            "5. 李茂珍 Lee Mujin  (by Ann)\n",
            "\n",
            " 인디음악을 찾고 있어요 ..\n",
            "\n",
            " 추천 곡 \n",
            "제목      : 산책\n",
            "아티스트 : Lee Mujin\n",
            "인기도    : 28\n",
            "Spotify에서 듣기 -> https://open.spotify.com/track/6NEGdk4Dp1Ic547RI80c6L \n",
            "\n",
            "\n",
            " 이 곡을 재생목록에 저장할까요? (Y/N): y\n",
            "추천곡이 재생목록에 저장됐어요!\n"
          ]
        }
      ]
    },
    {
      "cell_type": "code",
      "source": [],
      "metadata": {
        "id": "nAI9vEMETPn8"
      },
      "execution_count": null,
      "outputs": []
    }
  ]
}