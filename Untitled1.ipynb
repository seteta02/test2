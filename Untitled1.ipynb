{
  "nbformat": 4,
  "nbformat_minor": 0,
  "metadata": {
    "colab": {
      "provenance": [],
      "authorship_tag": "ABX9TyOX+g6oalTiUVCTI16BmnhH",
      "include_colab_link": true
    },
    "kernelspec": {
      "name": "python3",
      "display_name": "Python 3"
    },
    "language_info": {
      "name": "python"
    }
  },
  "cells": [
    {
      "cell_type": "markdown",
      "metadata": {
        "id": "view-in-github",
        "colab_type": "text"
      },
      "source": [
        "<a href=\"https://colab.research.google.com/github/seteta02/test2/blob/test1/Untitled1.ipynb\" target=\"_parent\"><img src=\"https://colab.research.google.com/assets/colab-badge.svg\" alt=\"Open In Colab\"/></a>"
      ]
    },
    {
      "cell_type": "code",
      "execution_count": null,
      "metadata": {
        "colab": {
          "base_uri": "https://localhost:8080/"
        },
        "id": "7bMNGopXQuAm",
        "outputId": "ddd55dc2-a423-40de-c599-6f1909d13e5f"
      },
      "outputs": [
        {
          "output_type": "stream",
          "name": "stdout",
          "text": [
            "a =  20 b = 2\n"
          ]
        }
      ],
      "source": [
        "def func(num1, num2 = 2):\n",
        "  print('a = ',num1,'b =', num2)\n",
        "func(20)"
      ]
    },
    {
      "cell_type": "markdown",
      "source": [
        "수정\n"
      ],
      "metadata": {
        "id": "v2bJdvJ3_e2W"
      }
    },
    {
      "cell_type": "code",
      "source": [
        "print(\"Test\")"
      ],
      "metadata": {
        "colab": {
          "base_uri": "https://localhost:8080/"
        },
        "id": "Hl0gJIDj_a_v",
        "outputId": "b6da5448-7919-4004-870f-140cdd291220"
      },
      "execution_count": 2,
      "outputs": [
        {
          "output_type": "stream",
          "name": "stdout",
          "text": [
            "Test\n"
          ]
        }
      ]
    }
  ]
}